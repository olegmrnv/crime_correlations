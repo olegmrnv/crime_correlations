{
 "cells": [
  {
   "cell_type": "code",
   "execution_count": 1,
   "metadata": {},
   "outputs": [],
   "source": [
    "import gmaps\n",
    "import pandas as pd\n",
    "import numpy as np\n",
    "import json\n",
    "import requests\n",
    "import matplotlib.pyplot as plt\n",
    "\n",
    "# Google developer API key\n",
    "from api_keys import gmap_api\n",
    "\n",
    "# Access maps with unique API key\n",
    "gmaps.configure(api_key = gmap_api)\n"
   ]
  },
  {
   "cell_type": "code",
   "execution_count": 2,
   "metadata": {},
   "outputs": [
    {
     "data": {
      "text/html": [
       "<div>\n",
       "<style scoped>\n",
       "    .dataframe tbody tr th:only-of-type {\n",
       "        vertical-align: middle;\n",
       "    }\n",
       "\n",
       "    .dataframe tbody tr th {\n",
       "        vertical-align: top;\n",
       "    }\n",
       "\n",
       "    .dataframe thead th {\n",
       "        text-align: right;\n",
       "    }\n",
       "</style>\n",
       "<table border=\"1\" class=\"dataframe\">\n",
       "  <thead>\n",
       "    <tr style=\"text-align: right;\">\n",
       "      <th></th>\n",
       "      <th>ori</th>\n",
       "      <th>agency_name</th>\n",
       "      <th>state_abbr</th>\n",
       "      <th>primary_county_id</th>\n",
       "      <th>primary_county</th>\n",
       "      <th>population</th>\n",
       "      <th>nibrs_months_reported</th>\n",
       "      <th>icpsr_zip</th>\n",
       "      <th>icpsr_lat</th>\n",
       "      <th>icpsr_lng</th>\n",
       "      <th>report_year</th>\n",
       "    </tr>\n",
       "  </thead>\n",
       "  <tbody>\n",
       "    <tr>\n",
       "      <th>0</th>\n",
       "      <td>TX1350000</td>\n",
       "      <td>King County Sheriff's Office</td>\n",
       "      <td>TX</td>\n",
       "      <td>2749</td>\n",
       "      <td>King</td>\n",
       "      <td>257</td>\n",
       "      <td>0</td>\n",
       "      <td>79236</td>\n",
       "      <td>33.614159</td>\n",
       "      <td>-100.250548</td>\n",
       "      <td>2007</td>\n",
       "    </tr>\n",
       "    <tr>\n",
       "      <th>1</th>\n",
       "      <td>TX1730000</td>\n",
       "      <td>Motley County Sheriff's Office</td>\n",
       "      <td>TX</td>\n",
       "      <td>2787</td>\n",
       "      <td>Motley</td>\n",
       "      <td>1142</td>\n",
       "      <td>0</td>\n",
       "      <td>79244</td>\n",
       "      <td>34.057899</td>\n",
       "      <td>-100.793152</td>\n",
       "      <td>2007</td>\n",
       "    </tr>\n",
       "    <tr>\n",
       "      <th>2</th>\n",
       "      <td>TX0920500</td>\n",
       "      <td>Longview Police Department</td>\n",
       "      <td>TX</td>\n",
       "      <td>2706</td>\n",
       "      <td>Gregg</td>\n",
       "      <td>81842</td>\n",
       "      <td>12</td>\n",
       "      <td>75606</td>\n",
       "      <td>32.486397</td>\n",
       "      <td>-94.816276</td>\n",
       "      <td>2007</td>\n",
       "    </tr>\n",
       "    <tr>\n",
       "      <th>3</th>\n",
       "      <td>TX1990300</td>\n",
       "      <td>Heath Police Department</td>\n",
       "      <td>TX</td>\n",
       "      <td>2813</td>\n",
       "      <td>Rockwall</td>\n",
       "      <td>8176</td>\n",
       "      <td>12</td>\n",
       "      <td>75032</td>\n",
       "      <td>32.898054</td>\n",
       "      <td>-96.404396</td>\n",
       "      <td>2007</td>\n",
       "    </tr>\n",
       "    <tr>\n",
       "      <th>4</th>\n",
       "      <td>TX0570100</td>\n",
       "      <td>Addison Police Department</td>\n",
       "      <td>TX</td>\n",
       "      <td>2671</td>\n",
       "      <td>Dallas</td>\n",
       "      <td>16125</td>\n",
       "      <td>0</td>\n",
       "      <td>75001</td>\n",
       "      <td>32.766987</td>\n",
       "      <td>-96.778424</td>\n",
       "      <td>2007</td>\n",
       "    </tr>\n",
       "  </tbody>\n",
       "</table>\n",
       "</div>"
      ],
      "text/plain": [
       "         ori                     agency_name state_abbr  primary_county_id  \\\n",
       "0  TX1350000    King County Sheriff's Office         TX               2749   \n",
       "1  TX1730000  Motley County Sheriff's Office         TX               2787   \n",
       "2  TX0920500      Longview Police Department         TX               2706   \n",
       "3  TX1990300         Heath Police Department         TX               2813   \n",
       "4  TX0570100       Addison Police Department         TX               2671   \n",
       "\n",
       "  primary_county  population  nibrs_months_reported icpsr_zip  icpsr_lat  \\\n",
       "0           King         257                      0     79236  33.614159   \n",
       "1         Motley        1142                      0     79244  34.057899   \n",
       "2          Gregg       81842                     12     75606  32.486397   \n",
       "3       Rockwall        8176                     12     75032  32.898054   \n",
       "4         Dallas       16125                      0     75001  32.766987   \n",
       "\n",
       "    icpsr_lng  report_year  \n",
       "0 -100.250548         2007  \n",
       "1 -100.793152         2007  \n",
       "2  -94.816276         2007  \n",
       "3  -96.404396         2007  \n",
       "4  -96.778424         2007  "
      ]
     },
     "execution_count": 2,
     "metadata": {},
     "output_type": "execute_result"
    }
   ],
   "source": [
    "agencies_df = pd.read_csv(\"cleandata/all_year_agencies.csv\")\n",
    "agencies_df.head()"
   ]
  },
  {
   "cell_type": "code",
   "execution_count": 3,
   "metadata": {},
   "outputs": [
    {
     "data": {
      "text/plain": [
       "ori                      4660\n",
       "agency_name              4660\n",
       "state_abbr               4660\n",
       "primary_county_id        4660\n",
       "primary_county           4440\n",
       "population               4660\n",
       "nibrs_months_reported    4660\n",
       "icpsr_zip                4636\n",
       "icpsr_lat                4636\n",
       "icpsr_lng                4636\n",
       "report_year              4660\n",
       "dtype: int64"
      ]
     },
     "execution_count": 3,
     "metadata": {},
     "output_type": "execute_result"
    }
   ],
   "source": [
    "agencies_df.count()"
   ]
  },
  {
   "cell_type": "code",
   "execution_count": 4,
   "metadata": {
    "scrolled": true
   },
   "outputs": [
    {
     "data": {
      "text/plain": [
       "0     3106\n",
       "12    1461\n",
       "1       15\n",
       "2       12\n",
       "5       12\n",
       "4       12\n",
       "11       9\n",
       "3        9\n",
       "7        6\n",
       "9        6\n",
       "8        6\n",
       "10       3\n",
       "6        3\n",
       "Name: nibrs_months_reported, dtype: int64"
      ]
     },
     "execution_count": 4,
     "metadata": {},
     "output_type": "execute_result"
    }
   ],
   "source": [
    "agencies_df[\"nibrs_months_reported\"].value_counts()"
   ]
  },
  {
   "cell_type": "code",
   "execution_count": 5,
   "metadata": {},
   "outputs": [],
   "source": [
    "# galveston_ori_df = agencies_df.loc[\n",
    "#     agencies_df[\"ori\"] == \"TX0840400\"]\n",
    "# galveston_ori_df"
   ]
  },
  {
   "cell_type": "code",
   "execution_count": 6,
   "metadata": {},
   "outputs": [],
   "source": [
    "# louisa_ori_df = agencies_df.loc[\n",
    "#     agencies_df[\"ori\"] == \"VA0540000\"]\n",
    "# louisa_ori_df"
   ]
  },
  {
   "cell_type": "code",
   "execution_count": 7,
   "metadata": {},
   "outputs": [
    {
     "data": {
      "text/plain": [
       "0    33.614159\n",
       "1    34.057899\n",
       "2    32.486397\n",
       "3    32.898054\n",
       "4    32.766987\n",
       "Name: icpsr_lat, dtype: float64"
      ]
     },
     "execution_count": 7,
     "metadata": {},
     "output_type": "execute_result"
    }
   ],
   "source": [
    "lat_df = agencies_df[\"icpsr_lat\"]\n",
    "lat_df.head()"
   ]
  },
  {
   "cell_type": "code",
   "execution_count": 8,
   "metadata": {},
   "outputs": [
    {
     "data": {
      "text/plain": [
       "0   -100.250548\n",
       "1   -100.793152\n",
       "2    -94.816276\n",
       "3    -96.404396\n",
       "4    -96.778424\n",
       "Name: icpsr_lng, dtype: float64"
      ]
     },
     "execution_count": 8,
     "metadata": {},
     "output_type": "execute_result"
    }
   ],
   "source": [
    "long_df = agencies_df[\"icpsr_lng\"]\n",
    "long_df.head()"
   ]
  },
  {
   "cell_type": "code",
   "execution_count": 15,
   "metadata": {},
   "outputs": [
    {
     "ename": "SyntaxError",
     "evalue": "invalid syntax (<ipython-input-15-a928058ab0c1>, line 1)",
     "output_type": "error",
     "traceback": [
      "\u001b[1;36m  File \u001b[1;32m\"<ipython-input-15-a928058ab0c1>\"\u001b[1;36m, line \u001b[1;32m1\u001b[0m\n\u001b[1;33m    coordinates = agencies_df[f icpsr_lat + \", \" + icpsr_lng]\u001b[0m\n\u001b[1;37m                                        ^\u001b[0m\n\u001b[1;31mSyntaxError\u001b[0m\u001b[1;31m:\u001b[0m invalid syntax\n"
     ]
    }
   ],
   "source": [
    "coordinates = agencies_df[f icpsr_lat + \", \" + icpsr_lng]\n",
    "coordinates"
   ]
  },
  {
   "cell_type": "code",
   "execution_count": null,
   "metadata": {},
   "outputs": [],
   "source": []
  },
  {
   "cell_type": "code",
   "execution_count": null,
   "metadata": {},
   "outputs": [],
   "source": [
    "seven_all = len(agencies_df[\"report_year\"].count())\n",
    "eight_all = len(agencies_df[\"report_year\"].unique())\n",
    "nine_all = len(agencies_df[\"report_year\"].unique())\n",
    "ten_all = len(agencies_df[\"report_year\"].unique())\n",
    "eleven_all = len(agencies_df[\"report_year\"].unique())\n",
    "twelve_all = len(agencies_df[\"report_year\"].unique())\n",
    "total = len(agencies_df[\"report_year\"].unique())\n",
    "total"
   ]
  },
  {
   "cell_type": "code",
   "execution_count": null,
   "metadata": {},
   "outputs": [],
   "source": [
    "# #show only participating agencies\n",
    "\n",
    "# #nibrs_months_reported == \"12\""
   ]
  },
  {
   "cell_type": "code",
   "execution_count": null,
   "metadata": {},
   "outputs": [],
   "source": [
    "# # Customize the size of the figure\n",
    "# figure_layout = {\n",
    "#     'width': '400px',\n",
    "#     'height': '300px',\n",
    "#     'border': '1px solid black',\n",
    "#     'padding': '1px',\n",
    "#     'margin': '0 auto 0 auto'\n",
    "# }\n",
    "# fig = gmaps.figure(layout=figure_layout)"
   ]
  },
  {
   "cell_type": "code",
   "execution_count": null,
   "metadata": {},
   "outputs": [],
   "source": [
    "# # Assign the marker layer to a variable\n",
    "# markers = gmaps.marker_layer(coordinates)\n",
    "# # Add the layer to the map\n",
    "# fig.add_layer(markers)\n",
    "# fig"
   ]
  },
  {
   "cell_type": "code",
   "execution_count": null,
   "metadata": {},
   "outputs": [],
   "source": []
  }
 ],
 "metadata": {
  "kernelspec": {
   "display_name": "Python 3",
   "language": "python",
   "name": "python3"
  },
  "language_info": {
   "codemirror_mode": {
    "name": "ipython",
    "version": 3
   },
   "file_extension": ".py",
   "mimetype": "text/x-python",
   "name": "python",
   "nbconvert_exporter": "python",
   "pygments_lexer": "ipython3",
   "version": "3.7.1"
  }
 },
 "nbformat": 4,
 "nbformat_minor": 2
}
