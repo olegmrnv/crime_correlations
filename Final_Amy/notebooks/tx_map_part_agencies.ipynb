{
 "cells": [
  {
   "cell_type": "code",
   "execution_count": 1,
   "metadata": {},
   "outputs": [
    {
     "ename": "ModuleNotFoundError",
     "evalue": "No module named 'api_keys'",
     "output_type": "error",
     "traceback": [
      "\u001b[1;31m---------------------------------------------------------------------------\u001b[0m",
      "\u001b[1;31mModuleNotFoundError\u001b[0m                       Traceback (most recent call last)",
      "\u001b[1;32m<ipython-input-1-55eb4d460ef7>\u001b[0m in \u001b[0;36m<module>\u001b[1;34m\u001b[0m\n\u001b[0;32m      8\u001b[0m \u001b[1;33m\u001b[0m\u001b[0m\n\u001b[0;32m      9\u001b[0m \u001b[1;31m# Google developer API key\u001b[0m\u001b[1;33m\u001b[0m\u001b[1;33m\u001b[0m\u001b[1;33m\u001b[0m\u001b[0m\n\u001b[1;32m---> 10\u001b[1;33m \u001b[1;32mfrom\u001b[0m \u001b[0mapi_keys\u001b[0m \u001b[1;32mimport\u001b[0m \u001b[0mgmap_api\u001b[0m\u001b[1;33m\u001b[0m\u001b[1;33m\u001b[0m\u001b[0m\n\u001b[0m\u001b[0;32m     11\u001b[0m \u001b[1;33m\u001b[0m\u001b[0m\n\u001b[0;32m     12\u001b[0m \u001b[1;31m# Access maps with unique API key\u001b[0m\u001b[1;33m\u001b[0m\u001b[1;33m\u001b[0m\u001b[1;33m\u001b[0m\u001b[0m\n",
      "\u001b[1;31mModuleNotFoundError\u001b[0m: No module named 'api_keys'"
     ]
    }
   ],
   "source": [
    "import gmaps\n",
    "import pandas as pd\n",
    "import numpy as np\n",
    "import json\n",
    "import seaborn\n",
    "import requests\n",
    "import matplotlib.pyplot as plt\n",
    "\n",
    "# Google developer API key\n",
    "from api_keys import gmap_api\n",
    "\n",
    "# Access maps with unique API key\n",
    "gmaps.configure(api_keys=gmap_api)"
   ]
  },
  {
   "cell_type": "code",
   "execution_count": null,
   "metadata": {
    "scrolled": true
   },
   "outputs": [],
   "source": [
    "#read in combined csvfile\n",
    "tx_agencies_df = pd.read_csv(\"../data/cleandata/tx_combined_2004-2015.csv\")\n",
    "tx_ike_df = tx_agencies_df.loc[tx_agencies_df[\"report_year\"] == 2008, :]\n",
    "\n",
    "#drop records where lat or long is Null\n",
    "clean_tx_agencies_df = tx_agencies_df.dropna(subset = ['icpsr_lat', 'icpsr_lng'])\n",
    "\n",
    "#limit  data to year of natural disaster\n",
    "ike_agencies_pd = clean_tx_agencies_df.loc[clean_tx_agencies_df[\"report_year\"] == 2008, :]\n"
   ]
  },
  {
   "cell_type": "code",
   "execution_count": null,
   "metadata": {},
   "outputs": [],
   "source": [
    "# show only participating agencies\n",
    "part_ike_agencies_df = ike_agencies_pd.loc[ike_agencies_pd[\"nibrs_months_reported\"] == 12, :]\n",
    "part_ike_agencies_df = pd.DataFrame(part_ike_agencies_df)\n"
   ]
  },
  {
   "cell_type": "code",
   "execution_count": null,
   "metadata": {},
   "outputs": [],
   "source": [
    "# Store 'Lat' and 'Lng' into  locations \n",
    "part_tx_locations = part_ike_agencies_df[[\"icpsr_lat\", \"icpsr_lng\"]].astype(float)\n",
    "part_tx_locations.head()"
   ]
  },
  {
   "cell_type": "code",
   "execution_count": null,
   "metadata": {},
   "outputs": [],
   "source": [
    "# Store 'Lat' and 'Lng' into  locations \n",
    "tx_locations = ike_agencies_pd[[\"icpsr_lat\", \"icpsr_lng\"]].astype(float)\n",
    "tx_locations.head()"
   ]
  },
  {
   "cell_type": "code",
   "execution_count": 16,
   "metadata": {},
   "outputs": [
    {
     "data": {
      "text/plain": [
       "{'TX 2004 - 2015': 13355,\n",
       " 'Cleaned TX all years': 13284,\n",
       " 'All TX 2008': 1099,\n",
       " 'Cleaned TX 2008': 1094,\n",
       " 'Cleaned Tx Coordinates': 1094,\n",
       " 'Particpating': 76,\n",
       " 'Part Locations': 76}"
      ]
     },
     "execution_count": 16,
     "metadata": {},
     "output_type": "execute_result"
    }
   ],
   "source": [
    "#get totals for reports\n",
    "all_years = tx_agencies_df.count()\n",
    "all = all_years.max()\n",
    "\n",
    "clean_all_years = clean_tx_agencies_df.count()\n",
    "clean = clean_all_years.max()\n",
    "\n",
    "tx_agencies = tx_ike_df.count()\n",
    "tx = tx_agencies.max()\n",
    "\n",
    "clean_ike = ike_agencies_pd.count()\n",
    "ike = clean_ike.max()\n",
    "\n",
    "part_ike = part_ike_agencies_df.count()\n",
    "part = part_ike.max()\n",
    "\n",
    "coord_part = part_tx_locations.count()\n",
    "part_loc = coord_part.max()\n",
    "\n",
    "coord_tx = tx_locations.count()\n",
    "tx_loc = coord_tx.max()\n",
    "\n",
    "totals = {'TX 2004 - 2015': all, 'Cleaned TX all years': clean, 'All TX 2008': tx, 'Cleaned TX 2008': ike, \n",
    "          'Cleaned Tx Coordinates': tx_loc, 'Particpating': part, 'Part Locations': part_loc}\n",
    "totals"
   ]
  },
  {
   "cell_type": "code",
   "execution_count": 7,
   "metadata": {},
   "outputs": [],
   "source": [
    "# Customize the size of the figure\n",
    "part_figure_layout = {\n",
    "    'width': '400px',\n",
    "    'height': '300px',\n",
    "    'border': '1px solid black',\n",
    "    'padding': '1px',\n",
    "    'margin': '0 auto 0 auto'\n",
    "}\n",
    "part_fig = gmaps.figure(layout=part_figure_layout)"
   ]
  },
  {
   "cell_type": "code",
   "execution_count": 8,
   "metadata": {},
   "outputs": [
    {
     "data": {
      "application/vnd.jupyter.widget-view+json": {
       "model_id": "51cc2f8afc864e939195a8f0caaa50f5",
       "version_major": 2,
       "version_minor": 0
      },
      "text/plain": [
       "Figure(layout=FigureLayout(height='420px'))"
      ]
     },
     "metadata": {},
     "output_type": "display_data"
    }
   ],
   "source": [
    "fig = gmaps.figure()\n",
    "\n",
    "heat_layer = gmaps.heatmap_layer(tx_locations,\n",
    "                                 dissipating=False, max_intensity=100,\n",
    "                                 point_radius = 1)\n",
    "\n",
    "# Adjust heat_layer setting to help with heatmap dissipating on zoom\n",
    "heat_layer.dissipating = False\n",
    "heat_layer.max_intensity = 100\n",
    "heat_layer.point_radius = 2\n",
    "\n",
    "fig.add_layer(heat_layer)\n",
    "\n",
    "fig"
   ]
  },
  {
   "cell_type": "code",
   "execution_count": 9,
   "metadata": {},
   "outputs": [
    {
     "data": {
      "application/vnd.jupyter.widget-view+json": {
       "model_id": "51cc2f8afc864e939195a8f0caaa50f5",
       "version_major": 2,
       "version_minor": 0
      },
      "text/plain": [
       "Figure(layout=FigureLayout(height='420px'))"
      ]
     },
     "metadata": {},
     "output_type": "display_data"
    }
   ],
   "source": [
    "# Assign the marker layer to a variable\n",
    "markers = gmaps.marker_layer(part_tx_locations)\n",
    "# Add the layer to the map\n",
    "fig.add_layer(markers)\n",
    "fig"
   ]
  },
  {
   "cell_type": "code",
   "execution_count": null,
   "metadata": {},
   "outputs": [],
   "source": []
  },
  {
   "cell_type": "code",
   "execution_count": null,
   "metadata": {},
   "outputs": [],
   "source": []
  },
  {
   "cell_type": "code",
   "execution_count": null,
   "metadata": {},
   "outputs": [],
   "source": []
  }
 ],
 "metadata": {
  "kernelspec": {
   "display_name": "Python 3",
   "language": "python",
   "name": "python3"
  },
  "language_info": {
   "codemirror_mode": {
    "name": "ipython",
    "version": 3
   },
   "file_extension": ".py",
   "mimetype": "text/x-python",
   "name": "python",
   "nbconvert_exporter": "python",
   "pygments_lexer": "ipython3",
   "version": "3.7.1"
  }
 },
 "nbformat": 4,
 "nbformat_minor": 2
}
