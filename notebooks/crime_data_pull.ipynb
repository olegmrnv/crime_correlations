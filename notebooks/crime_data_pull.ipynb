{
 "cells": [
  {
   "cell_type": "code",
   "execution_count": 14,
   "metadata": {},
   "outputs": [],
   "source": [
    "import pandas as pd\n",
    "import json\n",
    "import requests\n",
    "from api_keys import crime_api_key\n",
    "from pprint import pprint\n",
    "import matplotlib.pyplot as plt"
   ]
  },
  {
   "cell_type": "code",
   "execution_count": 2,
   "metadata": {},
   "outputs": [
    {
     "name": "stderr",
     "output_type": "stream",
     "text": [
      "C:\\Users\\Oleg\\Anaconda3\\lib\\site-packages\\IPython\\core\\interactiveshell.py:3020: DtypeWarning: Columns (3,7) have mixed types. Specify dtype option on import or set low_memory=False.\n",
      "  interactivity=interactivity, compiler=compiler, result=result)\n"
     ]
    },
    {
     "data": {
      "text/html": [
       "<div>\n",
       "<style scoped>\n",
       "    .dataframe tbody tr th:only-of-type {\n",
       "        vertical-align: middle;\n",
       "    }\n",
       "\n",
       "    .dataframe tbody tr th {\n",
       "        vertical-align: top;\n",
       "    }\n",
       "\n",
       "    .dataframe thead th {\n",
       "        text-align: right;\n",
       "    }\n",
       "</style>\n",
       "<table border=\"1\" class=\"dataframe\">\n",
       "  <thead>\n",
       "    <tr style=\"text-align: right;\">\n",
       "      <th></th>\n",
       "      <th>agency_id</th>\n",
       "      <th>incident_id</th>\n",
       "      <th>nibrs_month_id</th>\n",
       "      <th>incident_number</th>\n",
       "      <th>cargo_theft_flag</th>\n",
       "      <th>submission_date</th>\n",
       "      <th>incident_date</th>\n",
       "      <th>report_date_flag</th>\n",
       "      <th>incident_hour</th>\n",
       "      <th>cleared_except_id</th>\n",
       "      <th>cleared_except_date</th>\n",
       "      <th>incident_status</th>\n",
       "      <th>data_home</th>\n",
       "      <th>ddocname</th>\n",
       "      <th>orig_format</th>\n",
       "      <th>ff_line_number</th>\n",
       "      <th>did</th>\n",
       "    </tr>\n",
       "  </thead>\n",
       "  <tbody>\n",
       "    <tr>\n",
       "      <th>0</th>\n",
       "      <td>18798</td>\n",
       "      <td>51604181</td>\n",
       "      <td>4831419</td>\n",
       "      <td>09010663</td>\n",
       "      <td>NaN</td>\n",
       "      <td>NaN</td>\n",
       "      <td>2009-01-01 00:00:00</td>\n",
       "      <td>NaN</td>\n",
       "      <td>9.0</td>\n",
       "      <td>6</td>\n",
       "      <td>NaN</td>\n",
       "      <td>0</td>\n",
       "      <td>C</td>\n",
       "      <td>2009_01_TX0140700_09010663_INC_NIBRS</td>\n",
       "      <td>NaN</td>\n",
       "      <td>NaN</td>\n",
       "      <td>NaN</td>\n",
       "    </tr>\n",
       "    <tr>\n",
       "      <th>1</th>\n",
       "      <td>18798</td>\n",
       "      <td>51608097</td>\n",
       "      <td>4831419</td>\n",
       "      <td>10000359</td>\n",
       "      <td>NaN</td>\n",
       "      <td>NaN</td>\n",
       "      <td>2009-01-12 00:00:00</td>\n",
       "      <td>NaN</td>\n",
       "      <td>19.0</td>\n",
       "      <td>6</td>\n",
       "      <td>NaN</td>\n",
       "      <td>0</td>\n",
       "      <td>C</td>\n",
       "      <td>2009_01_TX0140700_10000359_INC_NIBRS</td>\n",
       "      <td>NaN</td>\n",
       "      <td>NaN</td>\n",
       "      <td>NaN</td>\n",
       "    </tr>\n",
       "    <tr>\n",
       "      <th>2</th>\n",
       "      <td>18798</td>\n",
       "      <td>51591567</td>\n",
       "      <td>4831419</td>\n",
       "      <td>09005012</td>\n",
       "      <td>NaN</td>\n",
       "      <td>NaN</td>\n",
       "      <td>2009-01-12 00:00:00</td>\n",
       "      <td>NaN</td>\n",
       "      <td>8.0</td>\n",
       "      <td>6</td>\n",
       "      <td>NaN</td>\n",
       "      <td>0</td>\n",
       "      <td>C</td>\n",
       "      <td>2009_01_TX0140700_09005012_INC_NIBRS</td>\n",
       "      <td>NaN</td>\n",
       "      <td>NaN</td>\n",
       "      <td>NaN</td>\n",
       "    </tr>\n",
       "    <tr>\n",
       "      <th>3</th>\n",
       "      <td>18798</td>\n",
       "      <td>51580910</td>\n",
       "      <td>4831419</td>\n",
       "      <td>09000111</td>\n",
       "      <td>NaN</td>\n",
       "      <td>NaN</td>\n",
       "      <td>2009-01-04 00:00:00</td>\n",
       "      <td>NaN</td>\n",
       "      <td>1.0</td>\n",
       "      <td>6</td>\n",
       "      <td>NaN</td>\n",
       "      <td>0</td>\n",
       "      <td>C</td>\n",
       "      <td>2009_01_TX0140700_09000111_INC_NIBRS</td>\n",
       "      <td>NaN</td>\n",
       "      <td>NaN</td>\n",
       "      <td>NaN</td>\n",
       "    </tr>\n",
       "    <tr>\n",
       "      <th>4</th>\n",
       "      <td>18798</td>\n",
       "      <td>51580911</td>\n",
       "      <td>4831419</td>\n",
       "      <td>09000113</td>\n",
       "      <td>NaN</td>\n",
       "      <td>NaN</td>\n",
       "      <td>2009-01-04 00:00:00</td>\n",
       "      <td>NaN</td>\n",
       "      <td>1.0</td>\n",
       "      <td>6</td>\n",
       "      <td>NaN</td>\n",
       "      <td>0</td>\n",
       "      <td>C</td>\n",
       "      <td>2009_01_TX0140700_09000113_INC_NIBRS</td>\n",
       "      <td>NaN</td>\n",
       "      <td>NaN</td>\n",
       "      <td>NaN</td>\n",
       "    </tr>\n",
       "  </tbody>\n",
       "</table>\n",
       "</div>"
      ],
      "text/plain": [
       "   agency_id  incident_id  nibrs_month_id incident_number  cargo_theft_flag  \\\n",
       "0      18798     51604181         4831419        09010663               NaN   \n",
       "1      18798     51608097         4831419        10000359               NaN   \n",
       "2      18798     51591567         4831419        09005012               NaN   \n",
       "3      18798     51580910         4831419        09000111               NaN   \n",
       "4      18798     51580911         4831419        09000113               NaN   \n",
       "\n",
       "   submission_date        incident_date report_date_flag  incident_hour  \\\n",
       "0              NaN  2009-01-01 00:00:00              NaN            9.0   \n",
       "1              NaN  2009-01-12 00:00:00              NaN           19.0   \n",
       "2              NaN  2009-01-12 00:00:00              NaN            8.0   \n",
       "3              NaN  2009-01-04 00:00:00              NaN            1.0   \n",
       "4              NaN  2009-01-04 00:00:00              NaN            1.0   \n",
       "\n",
       "   cleared_except_id cleared_except_date  incident_status data_home  \\\n",
       "0                  6                 NaN                0         C   \n",
       "1                  6                 NaN                0         C   \n",
       "2                  6                 NaN                0         C   \n",
       "3                  6                 NaN                0         C   \n",
       "4                  6                 NaN                0         C   \n",
       "\n",
       "                               ddocname  orig_format  ff_line_number  did  \n",
       "0  2009_01_TX0140700_09010663_INC_NIBRS          NaN             NaN  NaN  \n",
       "1  2009_01_TX0140700_10000359_INC_NIBRS          NaN             NaN  NaN  \n",
       "2  2009_01_TX0140700_09005012_INC_NIBRS          NaN             NaN  NaN  \n",
       "3  2009_01_TX0140700_09000111_INC_NIBRS          NaN             NaN  NaN  \n",
       "4  2009_01_TX0140700_09000113_INC_NIBRS          NaN             NaN  NaN  "
      ]
     },
     "execution_count": 2,
     "metadata": {},
     "output_type": "execute_result"
    }
   ],
   "source": [
    "data = pd.read_csv(\"nibrs_incident_2009.csv\")\n",
    "data.head()"
   ]
  },
  {
   "cell_type": "code",
   "execution_count": 3,
   "metadata": {},
   "outputs": [],
   "source": [
    "data_1 = data[[\"agency_id\",\"incident_date\",\"ddocname\"]]\n"
   ]
  },
  {
   "cell_type": "code",
   "execution_count": 4,
   "metadata": {},
   "outputs": [
    {
     "name": "stderr",
     "output_type": "stream",
     "text": [
      "C:\\Users\\Oleg\\Anaconda3\\lib\\site-packages\\ipykernel_launcher.py:1: SettingWithCopyWarning: \n",
      "A value is trying to be set on a copy of a slice from a DataFrame.\n",
      "Try using .loc[row_indexer,col_indexer] = value instead\n",
      "\n",
      "See the caveats in the documentation: http://pandas.pydata.org/pandas-docs/stable/indexing.html#indexing-view-versus-copy\n",
      "  \"\"\"Entry point for launching an IPython kernel.\n"
     ]
    },
    {
     "data": {
      "text/html": [
       "<div>\n",
       "<style scoped>\n",
       "    .dataframe tbody tr th:only-of-type {\n",
       "        vertical-align: middle;\n",
       "    }\n",
       "\n",
       "    .dataframe tbody tr th {\n",
       "        vertical-align: top;\n",
       "    }\n",
       "\n",
       "    .dataframe thead th {\n",
       "        text-align: right;\n",
       "    }\n",
       "</style>\n",
       "<table border=\"1\" class=\"dataframe\">\n",
       "  <thead>\n",
       "    <tr style=\"text-align: right;\">\n",
       "      <th></th>\n",
       "      <th>agency_id</th>\n",
       "      <th>incident_date</th>\n",
       "      <th>ddocname</th>\n",
       "      <th>agency_name</th>\n",
       "    </tr>\n",
       "  </thead>\n",
       "  <tbody>\n",
       "    <tr>\n",
       "      <th>0</th>\n",
       "      <td>18798</td>\n",
       "      <td>2009-01-01 00:00:00</td>\n",
       "      <td>2009_01_TX0140700_09010663_INC_NIBRS</td>\n",
       "      <td>TX0140700</td>\n",
       "    </tr>\n",
       "    <tr>\n",
       "      <th>1</th>\n",
       "      <td>18798</td>\n",
       "      <td>2009-01-12 00:00:00</td>\n",
       "      <td>2009_01_TX0140700_10000359_INC_NIBRS</td>\n",
       "      <td>TX0140700</td>\n",
       "    </tr>\n",
       "    <tr>\n",
       "      <th>2</th>\n",
       "      <td>18798</td>\n",
       "      <td>2009-01-12 00:00:00</td>\n",
       "      <td>2009_01_TX0140700_09005012_INC_NIBRS</td>\n",
       "      <td>TX0140700</td>\n",
       "    </tr>\n",
       "    <tr>\n",
       "      <th>3</th>\n",
       "      <td>18798</td>\n",
       "      <td>2009-01-04 00:00:00</td>\n",
       "      <td>2009_01_TX0140700_09000111_INC_NIBRS</td>\n",
       "      <td>TX0140700</td>\n",
       "    </tr>\n",
       "    <tr>\n",
       "      <th>4</th>\n",
       "      <td>18798</td>\n",
       "      <td>2009-01-04 00:00:00</td>\n",
       "      <td>2009_01_TX0140700_09000113_INC_NIBRS</td>\n",
       "      <td>TX0140700</td>\n",
       "    </tr>\n",
       "  </tbody>\n",
       "</table>\n",
       "</div>"
      ],
      "text/plain": [
       "   agency_id        incident_date                              ddocname  \\\n",
       "0      18798  2009-01-01 00:00:00  2009_01_TX0140700_09010663_INC_NIBRS   \n",
       "1      18798  2009-01-12 00:00:00  2009_01_TX0140700_10000359_INC_NIBRS   \n",
       "2      18798  2009-01-12 00:00:00  2009_01_TX0140700_09005012_INC_NIBRS   \n",
       "3      18798  2009-01-04 00:00:00  2009_01_TX0140700_09000111_INC_NIBRS   \n",
       "4      18798  2009-01-04 00:00:00  2009_01_TX0140700_09000113_INC_NIBRS   \n",
       "\n",
       "  agency_name  \n",
       "0   TX0140700  \n",
       "1   TX0140700  \n",
       "2   TX0140700  \n",
       "3   TX0140700  \n",
       "4   TX0140700  "
      ]
     },
     "execution_count": 4,
     "metadata": {},
     "output_type": "execute_result"
    }
   ],
   "source": [
    "data_1[\"agency_name\"] = data_1[\"ddocname\"].str[8:17]\n",
    "data_1.head()"
   ]
  },
  {
   "cell_type": "code",
   "execution_count": 5,
   "metadata": {},
   "outputs": [
    {
     "name": "stderr",
     "output_type": "stream",
     "text": [
      "C:\\Users\\Oleg\\Anaconda3\\lib\\site-packages\\ipykernel_launcher.py:1: SettingWithCopyWarning: \n",
      "A value is trying to be set on a copy of a slice from a DataFrame.\n",
      "Try using .loc[row_indexer,col_indexer] = value instead\n",
      "\n",
      "See the caveats in the documentation: http://pandas.pydata.org/pandas-docs/stable/indexing.html#indexing-view-versus-copy\n",
      "  \"\"\"Entry point for launching an IPython kernel.\n"
     ]
    },
    {
     "data": {
      "text/html": [
       "<div>\n",
       "<style scoped>\n",
       "    .dataframe tbody tr th:only-of-type {\n",
       "        vertical-align: middle;\n",
       "    }\n",
       "\n",
       "    .dataframe tbody tr th {\n",
       "        vertical-align: top;\n",
       "    }\n",
       "\n",
       "    .dataframe thead th {\n",
       "        text-align: right;\n",
       "    }\n",
       "</style>\n",
       "<table border=\"1\" class=\"dataframe\">\n",
       "  <thead>\n",
       "    <tr style=\"text-align: right;\">\n",
       "      <th></th>\n",
       "      <th>agency_id</th>\n",
       "      <th>incident_date</th>\n",
       "      <th>ddocname</th>\n",
       "      <th>agency_name</th>\n",
       "    </tr>\n",
       "  </thead>\n",
       "  <tbody>\n",
       "    <tr>\n",
       "      <th>0</th>\n",
       "      <td>18798</td>\n",
       "      <td>2009-01-01</td>\n",
       "      <td>2009_01_TX0140700_09010663_INC_NIBRS</td>\n",
       "      <td>TX0140700</td>\n",
       "    </tr>\n",
       "    <tr>\n",
       "      <th>1</th>\n",
       "      <td>18798</td>\n",
       "      <td>2009-01-12</td>\n",
       "      <td>2009_01_TX0140700_10000359_INC_NIBRS</td>\n",
       "      <td>TX0140700</td>\n",
       "    </tr>\n",
       "    <tr>\n",
       "      <th>2</th>\n",
       "      <td>18798</td>\n",
       "      <td>2009-01-12</td>\n",
       "      <td>2009_01_TX0140700_09005012_INC_NIBRS</td>\n",
       "      <td>TX0140700</td>\n",
       "    </tr>\n",
       "    <tr>\n",
       "      <th>3</th>\n",
       "      <td>18798</td>\n",
       "      <td>2009-01-04</td>\n",
       "      <td>2009_01_TX0140700_09000111_INC_NIBRS</td>\n",
       "      <td>TX0140700</td>\n",
       "    </tr>\n",
       "    <tr>\n",
       "      <th>4</th>\n",
       "      <td>18798</td>\n",
       "      <td>2009-01-04</td>\n",
       "      <td>2009_01_TX0140700_09000113_INC_NIBRS</td>\n",
       "      <td>TX0140700</td>\n",
       "    </tr>\n",
       "  </tbody>\n",
       "</table>\n",
       "</div>"
      ],
      "text/plain": [
       "   agency_id incident_date                              ddocname agency_name\n",
       "0      18798    2009-01-01  2009_01_TX0140700_09010663_INC_NIBRS   TX0140700\n",
       "1      18798    2009-01-12  2009_01_TX0140700_10000359_INC_NIBRS   TX0140700\n",
       "2      18798    2009-01-12  2009_01_TX0140700_09005012_INC_NIBRS   TX0140700\n",
       "3      18798    2009-01-04  2009_01_TX0140700_09000111_INC_NIBRS   TX0140700\n",
       "4      18798    2009-01-04  2009_01_TX0140700_09000113_INC_NIBRS   TX0140700"
      ]
     },
     "execution_count": 5,
     "metadata": {},
     "output_type": "execute_result"
    }
   ],
   "source": [
    "data_1[\"incident_date\"] = data_1[\"incident_date\"].str[:10]\n",
    "data_1.head()"
   ]
  },
  {
   "cell_type": "code",
   "execution_count": 6,
   "metadata": {},
   "outputs": [
    {
     "name": "stderr",
     "output_type": "stream",
     "text": [
      "C:\\Users\\Oleg\\Anaconda3\\lib\\site-packages\\pandas\\core\\frame.py:3697: SettingWithCopyWarning: \n",
      "A value is trying to be set on a copy of a slice from a DataFrame\n",
      "\n",
      "See the caveats in the documentation: http://pandas.pydata.org/pandas-docs/stable/indexing.html#indexing-view-versus-copy\n",
      "  errors=errors)\n"
     ]
    },
    {
     "data": {
      "text/html": [
       "<div>\n",
       "<style scoped>\n",
       "    .dataframe tbody tr th:only-of-type {\n",
       "        vertical-align: middle;\n",
       "    }\n",
       "\n",
       "    .dataframe tbody tr th {\n",
       "        vertical-align: top;\n",
       "    }\n",
       "\n",
       "    .dataframe thead th {\n",
       "        text-align: right;\n",
       "    }\n",
       "</style>\n",
       "<table border=\"1\" class=\"dataframe\">\n",
       "  <thead>\n",
       "    <tr style=\"text-align: right;\">\n",
       "      <th></th>\n",
       "      <th>agency_id</th>\n",
       "      <th>incident_date</th>\n",
       "      <th>agency_name</th>\n",
       "    </tr>\n",
       "  </thead>\n",
       "  <tbody>\n",
       "    <tr>\n",
       "      <th>0</th>\n",
       "      <td>18798</td>\n",
       "      <td>2009-01-01</td>\n",
       "      <td>TX0140700</td>\n",
       "    </tr>\n",
       "    <tr>\n",
       "      <th>1</th>\n",
       "      <td>18798</td>\n",
       "      <td>2009-01-12</td>\n",
       "      <td>TX0140700</td>\n",
       "    </tr>\n",
       "    <tr>\n",
       "      <th>2</th>\n",
       "      <td>18798</td>\n",
       "      <td>2009-01-12</td>\n",
       "      <td>TX0140700</td>\n",
       "    </tr>\n",
       "    <tr>\n",
       "      <th>3</th>\n",
       "      <td>18798</td>\n",
       "      <td>2009-01-04</td>\n",
       "      <td>TX0140700</td>\n",
       "    </tr>\n",
       "    <tr>\n",
       "      <th>4</th>\n",
       "      <td>18798</td>\n",
       "      <td>2009-01-04</td>\n",
       "      <td>TX0140700</td>\n",
       "    </tr>\n",
       "  </tbody>\n",
       "</table>\n",
       "</div>"
      ],
      "text/plain": [
       "   agency_id incident_date agency_name\n",
       "0      18798    2009-01-01   TX0140700\n",
       "1      18798    2009-01-12   TX0140700\n",
       "2      18798    2009-01-12   TX0140700\n",
       "3      18798    2009-01-04   TX0140700\n",
       "4      18798    2009-01-04   TX0140700"
      ]
     },
     "execution_count": 6,
     "metadata": {},
     "output_type": "execute_result"
    }
   ],
   "source": [
    "data_1.drop('ddocname', axis=1, inplace=True)\n",
    "data_1.head()"
   ]
  },
  {
   "cell_type": "code",
   "execution_count": 7,
   "metadata": {},
   "outputs": [
    {
     "data": {
      "text/plain": [
       "agency_id        254035\n",
       "incident_date    254035\n",
       "agency_name      254035\n",
       "dtype: int64"
      ]
     },
     "execution_count": 7,
     "metadata": {},
     "output_type": "execute_result"
    }
   ],
   "source": [
    "data_1.count()"
   ]
  },
  {
   "cell_type": "code",
   "execution_count": 9,
   "metadata": {},
   "outputs": [
    {
     "data": {
      "text/plain": [
       "61"
      ]
     },
     "execution_count": 9,
     "metadata": {},
     "output_type": "execute_result"
    }
   ],
   "source": [
    "data_1.agency_id.nunique()"
   ]
  },
  {
   "cell_type": "code",
   "execution_count": 11,
   "metadata": {},
   "outputs": [],
   "source": [
    "data_2 = data_1.groupby(\"incident_date\").agency_id.count()"
   ]
  },
  {
   "cell_type": "code",
   "execution_count": 16,
   "metadata": {},
   "outputs": [
    {
     "data": {
      "text/plain": [
       "<matplotlib.axes._subplots.AxesSubplot at 0x2357a5fd128>"
      ]
     },
     "execution_count": 16,
     "metadata": {},
     "output_type": "execute_result"
    },
    {
     "data": {
      "image/png": "[encoded data removed]",
      "text/plain": [
       "<Figure size 432x288 with 1 Axes>"
      ]
     },
     "metadata": {
      "needs_background": "light"
     },
     "output_type": "display_data"
    }
   ],
   "source": [
    "data_2.plot(kind=\"line\")"
   ]
  },
  {
   "cell_type": "code",
   "execution_count": null,
   "metadata": {},
   "outputs": [],
   "source": []
  }
 ],
 "metadata": {
  "kernelspec": {
   "display_name": "Python 3",
   "language": "python",
   "name": "python3"
  },
  "language_info": {
   "codemirror_mode": {
    "name": "ipython",
    "version": 3
   },
   "file_extension": ".py",
   "mimetype": "text/x-python",
   "name": "python",
   "nbconvert_exporter": "python",
   "pygments_lexer": "ipython3",
   "version": "3.7.1"
  }
 },
 "nbformat": 4,
 "nbformat_minor": 2
}
