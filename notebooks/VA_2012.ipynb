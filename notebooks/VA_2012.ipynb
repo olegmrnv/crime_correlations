{
 "cells": [
  {
   "cell_type": "code",
   "execution_count": 1,
   "metadata": {},
   "outputs": [],
   "source": [
    "import pandas as pd\n",
    "import json\n",
    "import requests\n",
    "#from api_keys import crime_api_key\n",
    "from pprint import pprint\n",
    "import matplotlib.pyplot as plt"
   ]
  },
  {
   "cell_type": "code",
   "execution_count": 2,
   "metadata": {},
   "outputs": [
    {
     "name": "stderr",
     "output_type": "stream",
     "text": [
      "C:\\Users\\Oleg\\Anaconda3\\lib\\site-packages\\IPython\\core\\interactiveshell.py:3020: DtypeWarning: Columns (7) have mixed types. Specify dtype option on import or set low_memory=False.\n",
      "  interactivity=interactivity, compiler=compiler, result=result)\n"
     ]
    },
    {
     "data": {
      "text/html": [
       "<div>\n",
       "<style scoped>\n",
       "    .dataframe tbody tr th:only-of-type {\n",
       "        vertical-align: middle;\n",
       "    }\n",
       "\n",
       "    .dataframe tbody tr th {\n",
       "        vertical-align: top;\n",
       "    }\n",
       "\n",
       "    .dataframe thead th {\n",
       "        text-align: right;\n",
       "    }\n",
       "</style>\n",
       "<table border=\"1\" class=\"dataframe\">\n",
       "  <thead>\n",
       "    <tr style=\"text-align: right;\">\n",
       "      <th></th>\n",
       "      <th>agency_id</th>\n",
       "      <th>incident_id</th>\n",
       "      <th>nibrs_month_id</th>\n",
       "      <th>incident_number</th>\n",
       "      <th>cargo_theft_flag</th>\n",
       "      <th>submission_date</th>\n",
       "      <th>incident_date</th>\n",
       "      <th>report_date_flag</th>\n",
       "      <th>incident_hour</th>\n",
       "      <th>cleared_except_id</th>\n",
       "      <th>cleared_except_date</th>\n",
       "      <th>incident_status</th>\n",
       "      <th>data_home</th>\n",
       "      <th>ddocname</th>\n",
       "      <th>orig_format</th>\n",
       "      <th>ff_line_number</th>\n",
       "      <th>did</th>\n",
       "    </tr>\n",
       "  </thead>\n",
       "  <tbody>\n",
       "    <tr>\n",
       "      <th>0</th>\n",
       "      <td>20092</td>\n",
       "      <td>64658167</td>\n",
       "      <td>5803582</td>\n",
       "      <td>2011-003951</td>\n",
       "      <td>NaN</td>\n",
       "      <td>NaN</td>\n",
       "      <td>2012-01-26 00:00:00</td>\n",
       "      <td>NaN</td>\n",
       "      <td>13.0</td>\n",
       "      <td>6</td>\n",
       "      <td>NaN</td>\n",
       "      <td>0</td>\n",
       "      <td>C</td>\n",
       "      <td>2012_01_VA0160200_2011-003951_INC_NIBRS</td>\n",
       "      <td>NaN</td>\n",
       "      <td>NaN</td>\n",
       "      <td>NaN</td>\n",
       "    </tr>\n",
       "    <tr>\n",
       "      <th>1</th>\n",
       "      <td>20092</td>\n",
       "      <td>64658168</td>\n",
       "      <td>5803582</td>\n",
       "      <td>2012-002846</td>\n",
       "      <td>NaN</td>\n",
       "      <td>NaN</td>\n",
       "      <td>2012-01-19 00:00:00</td>\n",
       "      <td>NaN</td>\n",
       "      <td>13.0</td>\n",
       "      <td>6</td>\n",
       "      <td>NaN</td>\n",
       "      <td>0</td>\n",
       "      <td>C</td>\n",
       "      <td>2012_01_VA0160200_2012-002846_INC_NIBRS</td>\n",
       "      <td>NaN</td>\n",
       "      <td>NaN</td>\n",
       "      <td>NaN</td>\n",
       "    </tr>\n",
       "    <tr>\n",
       "      <th>2</th>\n",
       "      <td>20092</td>\n",
       "      <td>64658166</td>\n",
       "      <td>5825783</td>\n",
       "      <td>2010-007106</td>\n",
       "      <td>NaN</td>\n",
       "      <td>NaN</td>\n",
       "      <td>2012-02-13 00:00:00</td>\n",
       "      <td>NaN</td>\n",
       "      <td>13.0</td>\n",
       "      <td>6</td>\n",
       "      <td>NaN</td>\n",
       "      <td>0</td>\n",
       "      <td>C</td>\n",
       "      <td>2012_02_VA0160200_2010-007106_INC_NIBRS</td>\n",
       "      <td>NaN</td>\n",
       "      <td>NaN</td>\n",
       "      <td>NaN</td>\n",
       "    </tr>\n",
       "    <tr>\n",
       "      <th>3</th>\n",
       "      <td>20092</td>\n",
       "      <td>64658169</td>\n",
       "      <td>5825783</td>\n",
       "      <td>2012-003951</td>\n",
       "      <td>NaN</td>\n",
       "      <td>NaN</td>\n",
       "      <td>2012-02-01 00:00:00</td>\n",
       "      <td>NaN</td>\n",
       "      <td>7.0</td>\n",
       "      <td>6</td>\n",
       "      <td>NaN</td>\n",
       "      <td>0</td>\n",
       "      <td>C</td>\n",
       "      <td>2012_02_VA0160200_2012-003951_INC_NIBRS</td>\n",
       "      <td>NaN</td>\n",
       "      <td>NaN</td>\n",
       "      <td>NaN</td>\n",
       "    </tr>\n",
       "    <tr>\n",
       "      <th>4</th>\n",
       "      <td>20092</td>\n",
       "      <td>64658170</td>\n",
       "      <td>5825783</td>\n",
       "      <td>2012-007106</td>\n",
       "      <td>NaN</td>\n",
       "      <td>NaN</td>\n",
       "      <td>2012-02-21 00:00:00</td>\n",
       "      <td>NaN</td>\n",
       "      <td>7.0</td>\n",
       "      <td>6</td>\n",
       "      <td>NaN</td>\n",
       "      <td>0</td>\n",
       "      <td>C</td>\n",
       "      <td>2012_02_VA0160200_2012-007106_INC_NIBRS</td>\n",
       "      <td>NaN</td>\n",
       "      <td>NaN</td>\n",
       "      <td>NaN</td>\n",
       "    </tr>\n",
       "  </tbody>\n",
       "</table>\n",
       "</div>"
      ],
      "text/plain": [
       "   agency_id  incident_id  nibrs_month_id incident_number cargo_theft_flag  \\\n",
       "0      20092     64658167         5803582     2011-003951              NaN   \n",
       "1      20092     64658168         5803582     2012-002846              NaN   \n",
       "2      20092     64658166         5825783     2010-007106              NaN   \n",
       "3      20092     64658169         5825783     2012-003951              NaN   \n",
       "4      20092     64658170         5825783     2012-007106              NaN   \n",
       "\n",
       "   submission_date        incident_date report_date_flag  incident_hour  \\\n",
       "0              NaN  2012-01-26 00:00:00              NaN           13.0   \n",
       "1              NaN  2012-01-19 00:00:00              NaN           13.0   \n",
       "2              NaN  2012-02-13 00:00:00              NaN           13.0   \n",
       "3              NaN  2012-02-01 00:00:00              NaN            7.0   \n",
       "4              NaN  2012-02-21 00:00:00              NaN            7.0   \n",
       "\n",
       "   cleared_except_id cleared_except_date  incident_status data_home  \\\n",
       "0                  6                 NaN                0         C   \n",
       "1                  6                 NaN                0         C   \n",
       "2                  6                 NaN                0         C   \n",
       "3                  6                 NaN                0         C   \n",
       "4                  6                 NaN                0         C   \n",
       "\n",
       "                                  ddocname  orig_format  ff_line_number  did  \n",
       "0  2012_01_VA0160200_2011-003951_INC_NIBRS          NaN             NaN  NaN  \n",
       "1  2012_01_VA0160200_2012-002846_INC_NIBRS          NaN             NaN  NaN  \n",
       "2  2012_02_VA0160200_2010-007106_INC_NIBRS          NaN             NaN  NaN  \n",
       "3  2012_02_VA0160200_2012-003951_INC_NIBRS          NaN             NaN  NaN  \n",
       "4  2012_02_VA0160200_2012-007106_INC_NIBRS          NaN             NaN  NaN  "
      ]
     },
     "execution_count": 2,
     "metadata": {},
     "output_type": "execute_result"
    }
   ],
   "source": [
    "va_data = pd.read_csv(\"nibrs_incident_2012_VA.csv\")\n",
    "va_data.head()"
   ]
  },
  {
   "cell_type": "code",
   "execution_count": 3,
   "metadata": {},
   "outputs": [
    {
     "data": {
      "text/html": [
       "<div>\n",
       "<style scoped>\n",
       "    .dataframe tbody tr th:only-of-type {\n",
       "        vertical-align: middle;\n",
       "    }\n",
       "\n",
       "    .dataframe tbody tr th {\n",
       "        vertical-align: top;\n",
       "    }\n",
       "\n",
       "    .dataframe thead th {\n",
       "        text-align: right;\n",
       "    }\n",
       "</style>\n",
       "<table border=\"1\" class=\"dataframe\">\n",
       "  <thead>\n",
       "    <tr style=\"text-align: right;\">\n",
       "      <th></th>\n",
       "      <th>incident_date</th>\n",
       "      <th>ddocname</th>\n",
       "    </tr>\n",
       "  </thead>\n",
       "  <tbody>\n",
       "    <tr>\n",
       "      <th>0</th>\n",
       "      <td>2012-01-26 00:00:00</td>\n",
       "      <td>2012_01_VA0160200_2011-003951_INC_NIBRS</td>\n",
       "    </tr>\n",
       "    <tr>\n",
       "      <th>1</th>\n",
       "      <td>2012-01-19 00:00:00</td>\n",
       "      <td>2012_01_VA0160200_2012-002846_INC_NIBRS</td>\n",
       "    </tr>\n",
       "    <tr>\n",
       "      <th>2</th>\n",
       "      <td>2012-02-13 00:00:00</td>\n",
       "      <td>2012_02_VA0160200_2010-007106_INC_NIBRS</td>\n",
       "    </tr>\n",
       "    <tr>\n",
       "      <th>3</th>\n",
       "      <td>2012-02-01 00:00:00</td>\n",
       "      <td>2012_02_VA0160200_2012-003951_INC_NIBRS</td>\n",
       "    </tr>\n",
       "    <tr>\n",
       "      <th>4</th>\n",
       "      <td>2012-02-21 00:00:00</td>\n",
       "      <td>2012_02_VA0160200_2012-007106_INC_NIBRS</td>\n",
       "    </tr>\n",
       "  </tbody>\n",
       "</table>\n",
       "</div>"
      ],
      "text/plain": [
       "         incident_date                                 ddocname\n",
       "0  2012-01-26 00:00:00  2012_01_VA0160200_2011-003951_INC_NIBRS\n",
       "1  2012-01-19 00:00:00  2012_01_VA0160200_2012-002846_INC_NIBRS\n",
       "2  2012-02-13 00:00:00  2012_02_VA0160200_2010-007106_INC_NIBRS\n",
       "3  2012-02-01 00:00:00  2012_02_VA0160200_2012-003951_INC_NIBRS\n",
       "4  2012-02-21 00:00:00  2012_02_VA0160200_2012-007106_INC_NIBRS"
      ]
     },
     "execution_count": 3,
     "metadata": {},
     "output_type": "execute_result"
    }
   ],
   "source": [
    "va_data_formated = va_data[[\"incident_date\", \"ddocname\"]]\n",
    "va_data_formated.head()"
   ]
  },
  {
   "cell_type": "code",
   "execution_count": 4,
   "metadata": {},
   "outputs": [
    {
     "name": "stderr",
     "output_type": "stream",
     "text": [
      "C:\\Users\\Oleg\\Anaconda3\\lib\\site-packages\\ipykernel_launcher.py:1: SettingWithCopyWarning: \n",
      "A value is trying to be set on a copy of a slice from a DataFrame.\n",
      "Try using .loc[row_indexer,col_indexer] = value instead\n",
      "\n",
      "See the caveats in the documentation: http://pandas.pydata.org/pandas-docs/stable/indexing.html#indexing-view-versus-copy\n",
      "  \"\"\"Entry point for launching an IPython kernel.\n",
      "C:\\Users\\Oleg\\Anaconda3\\lib\\site-packages\\ipykernel_launcher.py:2: SettingWithCopyWarning: \n",
      "A value is trying to be set on a copy of a slice from a DataFrame.\n",
      "Try using .loc[row_indexer,col_indexer] = value instead\n",
      "\n",
      "See the caveats in the documentation: http://pandas.pydata.org/pandas-docs/stable/indexing.html#indexing-view-versus-copy\n",
      "  \n"
     ]
    },
    {
     "data": {
      "text/html": [
       "<div>\n",
       "<style scoped>\n",
       "    .dataframe tbody tr th:only-of-type {\n",
       "        vertical-align: middle;\n",
       "    }\n",
       "\n",
       "    .dataframe tbody tr th {\n",
       "        vertical-align: top;\n",
       "    }\n",
       "\n",
       "    .dataframe thead th {\n",
       "        text-align: right;\n",
       "    }\n",
       "</style>\n",
       "<table border=\"1\" class=\"dataframe\">\n",
       "  <thead>\n",
       "    <tr style=\"text-align: right;\">\n",
       "      <th></th>\n",
       "      <th>incident_date</th>\n",
       "      <th>ddocname</th>\n",
       "    </tr>\n",
       "  </thead>\n",
       "  <tbody>\n",
       "    <tr>\n",
       "      <th>0</th>\n",
       "      <td>2012-01</td>\n",
       "      <td>VA0160200</td>\n",
       "    </tr>\n",
       "    <tr>\n",
       "      <th>1</th>\n",
       "      <td>2012-01</td>\n",
       "      <td>VA0160200</td>\n",
       "    </tr>\n",
       "    <tr>\n",
       "      <th>2</th>\n",
       "      <td>2012-02</td>\n",
       "      <td>VA0160200</td>\n",
       "    </tr>\n",
       "    <tr>\n",
       "      <th>3</th>\n",
       "      <td>2012-02</td>\n",
       "      <td>VA0160200</td>\n",
       "    </tr>\n",
       "    <tr>\n",
       "      <th>4</th>\n",
       "      <td>2012-02</td>\n",
       "      <td>VA0160200</td>\n",
       "    </tr>\n",
       "  </tbody>\n",
       "</table>\n",
       "</div>"
      ],
      "text/plain": [
       "  incident_date   ddocname\n",
       "0       2012-01  VA0160200\n",
       "1       2012-01  VA0160200\n",
       "2       2012-02  VA0160200\n",
       "3       2012-02  VA0160200\n",
       "4       2012-02  VA0160200"
      ]
     },
     "execution_count": 4,
     "metadata": {},
     "output_type": "execute_result"
    }
   ],
   "source": [
    "va_data_formated[\"incident_date\"] = va_data_formated[\"incident_date\"].str[:7]\n",
    "va_data_formated[\"ddocname\"] = va_data_formated[\"ddocname\"].str[8:17]\n",
    "va_data_formated.head()"
   ]
  },
  {
   "cell_type": "code",
   "execution_count": 5,
   "metadata": {},
   "outputs": [
    {
     "data": {
      "text/plain": [
       "incident_date    422665\n",
       "ddocname         422665\n",
       "dtype: int64"
      ]
     },
     "execution_count": 5,
     "metadata": {},
     "output_type": "execute_result"
    }
   ],
   "source": [
    "va_data_formated.count()"
   ]
  },
  {
   "cell_type": "code",
   "execution_count": 6,
   "metadata": {},
   "outputs": [
    {
     "data": {
      "text/html": [
       "<div>\n",
       "<style scoped>\n",
       "    .dataframe tbody tr th:only-of-type {\n",
       "        vertical-align: middle;\n",
       "    }\n",
       "\n",
       "    .dataframe tbody tr th {\n",
       "        vertical-align: top;\n",
       "    }\n",
       "\n",
       "    .dataframe thead th {\n",
       "        text-align: right;\n",
       "    }\n",
       "</style>\n",
       "<table border=\"1\" class=\"dataframe\">\n",
       "  <thead>\n",
       "    <tr style=\"text-align: right;\">\n",
       "      <th></th>\n",
       "      <th>ddocname</th>\n",
       "    </tr>\n",
       "    <tr>\n",
       "      <th>incident_date</th>\n",
       "      <th></th>\n",
       "    </tr>\n",
       "  </thead>\n",
       "  <tbody>\n",
       "    <tr>\n",
       "      <th>2012-01</th>\n",
       "      <td>34061</td>\n",
       "    </tr>\n",
       "    <tr>\n",
       "      <th>2012-02</th>\n",
       "      <td>31153</td>\n",
       "    </tr>\n",
       "    <tr>\n",
       "      <th>2012-03</th>\n",
       "      <td>35417</td>\n",
       "    </tr>\n",
       "    <tr>\n",
       "      <th>2012-04</th>\n",
       "      <td>34602</td>\n",
       "    </tr>\n",
       "    <tr>\n",
       "      <th>2012-05</th>\n",
       "      <td>37677</td>\n",
       "    </tr>\n",
       "  </tbody>\n",
       "</table>\n",
       "</div>"
      ],
      "text/plain": [
       "               ddocname\n",
       "incident_date          \n",
       "2012-01           34061\n",
       "2012-02           31153\n",
       "2012-03           35417\n",
       "2012-04           34602\n",
       "2012-05           37677"
      ]
     },
     "execution_count": 6,
     "metadata": {},
     "output_type": "execute_result"
    }
   ],
   "source": [
    "info_plot = va_data_formated.groupby(\"incident_date\").count()\n",
    "info_plot.head()"
   ]
  },
  {
   "cell_type": "code",
   "execution_count": 7,
   "metadata": {},
   "outputs": [
    {
     "data": {
      "image/png": "[encoded data removed]",
      "text/plain": [
       "<Figure size 432x288 with 1 Axes>"
      ]
     },
     "metadata": {
      "needs_background": "light"
     },
     "output_type": "display_data"
    }
   ],
   "source": [
    "plt.plot(info_plot.index, info_plot.ddocname)\n",
    "plt.xticks(rotation=90)\n",
    "plt.grid()"
   ]
  },
  {
   "cell_type": "code",
   "execution_count": 8,
   "metadata": {},
   "outputs": [
    {
     "data": {
      "text/plain": [
       "1124"
      ]
     },
     "execution_count": 8,
     "metadata": {},
     "output_type": "execute_result"
    }
   ],
   "source": [
    "va_data_filtered = va_data_formated.loc[(va_data_formated[\"ddocname\"] == \"VA0540000\") | \n",
    "                                        (va_data_formated[\"ddocname\"] == \"VA054SP00\") |\n",
    "                                        (va_data_formated[\"ddocname\"] == \"VA0540100\"), :]\n",
    "va_data_filtered.ddocname.count()"
   ]
  },
  {
   "cell_type": "code",
   "execution_count": 9,
   "metadata": {},
   "outputs": [
    {
     "data": {
      "text/html": [
       "<div>\n",
       "<style scoped>\n",
       "    .dataframe tbody tr th:only-of-type {\n",
       "        vertical-align: middle;\n",
       "    }\n",
       "\n",
       "    .dataframe tbody tr th {\n",
       "        vertical-align: top;\n",
       "    }\n",
       "\n",
       "    .dataframe thead th {\n",
       "        text-align: right;\n",
       "    }\n",
       "</style>\n",
       "<table border=\"1\" class=\"dataframe\">\n",
       "  <thead>\n",
       "    <tr style=\"text-align: right;\">\n",
       "      <th></th>\n",
       "      <th>incident_date</th>\n",
       "      <th>ddocname</th>\n",
       "    </tr>\n",
       "  </thead>\n",
       "  <tbody>\n",
       "    <tr>\n",
       "      <th>14704</th>\n",
       "      <td>2012-01</td>\n",
       "      <td>VA0540000</td>\n",
       "    </tr>\n",
       "    <tr>\n",
       "      <th>14705</th>\n",
       "      <td>2012-01</td>\n",
       "      <td>VA0540000</td>\n",
       "    </tr>\n",
       "    <tr>\n",
       "      <th>14706</th>\n",
       "      <td>2012-02</td>\n",
       "      <td>VA0540000</td>\n",
       "    </tr>\n",
       "    <tr>\n",
       "      <th>14707</th>\n",
       "      <td>2012-02</td>\n",
       "      <td>VA0540000</td>\n",
       "    </tr>\n",
       "    <tr>\n",
       "      <th>14708</th>\n",
       "      <td>2012-02</td>\n",
       "      <td>VA0540000</td>\n",
       "    </tr>\n",
       "  </tbody>\n",
       "</table>\n",
       "</div>"
      ],
      "text/plain": [
       "      incident_date   ddocname\n",
       "14704       2012-01  VA0540000\n",
       "14705       2012-01  VA0540000\n",
       "14706       2012-02  VA0540000\n",
       "14707       2012-02  VA0540000\n",
       "14708       2012-02  VA0540000"
      ]
     },
     "execution_count": 9,
     "metadata": {},
     "output_type": "execute_result"
    }
   ],
   "source": [
    "va_data_filtered.head()"
   ]
  },
  {
   "cell_type": "code",
   "execution_count": 10,
   "metadata": {},
   "outputs": [
    {
     "data": {
      "text/html": [
       "<div>\n",
       "<style scoped>\n",
       "    .dataframe tbody tr th:only-of-type {\n",
       "        vertical-align: middle;\n",
       "    }\n",
       "\n",
       "    .dataframe tbody tr th {\n",
       "        vertical-align: top;\n",
       "    }\n",
       "\n",
       "    .dataframe thead th {\n",
       "        text-align: right;\n",
       "    }\n",
       "</style>\n",
       "<table border=\"1\" class=\"dataframe\">\n",
       "  <thead>\n",
       "    <tr style=\"text-align: right;\">\n",
       "      <th></th>\n",
       "      <th>ddocname</th>\n",
       "    </tr>\n",
       "    <tr>\n",
       "      <th>incident_date</th>\n",
       "      <th></th>\n",
       "    </tr>\n",
       "  </thead>\n",
       "  <tbody>\n",
       "    <tr>\n",
       "      <th>2012-01</th>\n",
       "      <td>19</td>\n",
       "    </tr>\n",
       "    <tr>\n",
       "      <th>2012-02</th>\n",
       "      <td>79</td>\n",
       "    </tr>\n",
       "    <tr>\n",
       "      <th>2012-03</th>\n",
       "      <td>50</td>\n",
       "    </tr>\n",
       "    <tr>\n",
       "      <th>2012-04</th>\n",
       "      <td>108</td>\n",
       "    </tr>\n",
       "    <tr>\n",
       "      <th>2012-05</th>\n",
       "      <td>120</td>\n",
       "    </tr>\n",
       "  </tbody>\n",
       "</table>\n",
       "</div>"
      ],
      "text/plain": [
       "               ddocname\n",
       "incident_date          \n",
       "2012-01              19\n",
       "2012-02              79\n",
       "2012-03              50\n",
       "2012-04             108\n",
       "2012-05             120"
      ]
     },
     "execution_count": 10,
     "metadata": {},
     "output_type": "execute_result"
    }
   ],
   "source": [
    "info_plot_filtered = va_data_filtered.groupby(\"incident_date\").count()\n",
    "info_plot_filtered.head()"
   ]
  },
  {
   "cell_type": "code",
   "execution_count": 11,
   "metadata": {},
   "outputs": [
    {
     "data": {
      "image/png": "[encoded data removed]",
      "text/plain": [
       "<Figure size 432x288 with 1 Axes>"
      ]
     },
     "metadata": {
      "needs_background": "light"
     },
     "output_type": "display_data"
    }
   ],
   "source": [
    "plt.plot(info_plot_filtered.index, info_plot_filtered.ddocname)\n",
    "plt.xticks(rotation=90)\n",
    "plt.grid()"
   ]
  },
  {
   "cell_type": "code",
   "execution_count": null,
   "metadata": {},
   "outputs": [],
   "source": []
  }
 ],
 "metadata": {
  "kernelspec": {
   "display_name": "Python 3",
   "language": "python",
   "name": "python3"
  },
  "language_info": {
   "codemirror_mode": {
    "name": "ipython",
    "version": 3
   },
   "file_extension": ".py",
   "mimetype": "text/x-python",
   "name": "python",
   "nbconvert_exporter": "python",
   "pygments_lexer": "ipython3",
   "version": "3.7.1"
  }
 },
 "nbformat": 4,
 "nbformat_minor": 2
}
