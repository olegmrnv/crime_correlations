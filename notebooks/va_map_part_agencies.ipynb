{
 "cells": [
  {
   "cell_type": "code",
   "execution_count": 1,
   "metadata": {},
   "outputs": [],
   "source": [
    "import gmaps\n",
    "import pandas as pd\n",
    "import numpy as np\n",
    "import json\n",
    "import seaborn\n",
    "import requests\n",
    "import matplotlib.pyplot as plt\n",
    "\n",
    "# Google developer API key\n",
    "from api_key import gmap_api\n",
    "\n",
    "# Access maps with unique API key\n",
    "gmaps.configure(api_key=gmap_api)"
   ]
  },
  {
   "cell_type": "code",
   "execution_count": 2,
   "metadata": {
    "scrolled": true
   },
   "outputs": [],
   "source": [
    "#read in combined csvfile\n",
    "va_agencies_df = pd.read_csv(\"../data/cleandata/va_combined_2005-2015.csv\")\n",
    "va_louisa_df = va_agencies_df.loc[va_agencies_df[\"report_year\"] == 2011, :]\n",
    "\n",
    "#drop records where lat or long is Null\n",
    "clean_va_agencies_df = va_agencies_df.dropna(subset = ['icpsr_lat', 'icpsr_lng'])\n",
    "\n",
    "#limit  data to year of natural disaster\n",
    "louisa_agencies_pd = clean_va_agencies_df.loc[clean_va_agencies_df[\"report_year\"] == 2011, :]\n"
   ]
  },
  {
   "cell_type": "code",
   "execution_count": 3,
   "metadata": {},
   "outputs": [],
   "source": [
    "# show only participating agencies\n",
    "part_louisa_agencies_df = louisa_agencies_pd.loc[louisa_agencies_pd[\"nibrs_months_reported\"] == 12, :]\n",
    "part_louisa_agencies_df = pd.DataFrame(part_louisa_agencies_df)\n"
   ]
  },
  {
   "cell_type": "code",
   "execution_count": 4,
   "metadata": {},
   "outputs": [
    {
     "data": {
      "text/html": [
       "<div>\n",
       "<style scoped>\n",
       "    .dataframe tbody tr th:only-of-type {\n",
       "        vertical-align: middle;\n",
       "    }\n",
       "\n",
       "    .dataframe tbody tr th {\n",
       "        vertical-align: top;\n",
       "    }\n",
       "\n",
       "    .dataframe thead th {\n",
       "        text-align: right;\n",
       "    }\n",
       "</style>\n",
       "<table border=\"1\" class=\"dataframe\">\n",
       "  <thead>\n",
       "    <tr style=\"text-align: right;\">\n",
       "      <th></th>\n",
       "      <th>icpsr_lat</th>\n",
       "      <th>icpsr_lng</th>\n",
       "    </tr>\n",
       "  </thead>\n",
       "  <tbody>\n",
       "    <tr>\n",
       "      <th>2696</th>\n",
       "      <td>37.269524</td>\n",
       "      <td>-76.708165</td>\n",
       "    </tr>\n",
       "    <tr>\n",
       "      <th>2698</th>\n",
       "      <td>38.412059</td>\n",
       "      <td>-78.276961</td>\n",
       "    </tr>\n",
       "    <tr>\n",
       "      <th>2699</th>\n",
       "      <td>36.923015</td>\n",
       "      <td>-76.244641</td>\n",
       "    </tr>\n",
       "    <tr>\n",
       "      <th>2700</th>\n",
       "      <td>37.278458</td>\n",
       "      <td>-79.958174</td>\n",
       "    </tr>\n",
       "    <tr>\n",
       "      <th>2701</th>\n",
       "      <td>38.833742</td>\n",
       "      <td>-77.276117</td>\n",
       "    </tr>\n",
       "  </tbody>\n",
       "</table>\n",
       "</div>"
      ],
      "text/plain": [
       "      icpsr_lat  icpsr_lng\n",
       "2696  37.269524 -76.708165\n",
       "2698  38.412059 -78.276961\n",
       "2699  36.923015 -76.244641\n",
       "2700  37.278458 -79.958174\n",
       "2701  38.833742 -77.276117"
      ]
     },
     "execution_count": 4,
     "metadata": {},
     "output_type": "execute_result"
    }
   ],
   "source": [
    "# Store 'Lat' and 'Lng' into  locations \n",
    "part_va_locations = part_louisa_agencies_df[[\"icpsr_lat\", \"icpsr_lng\"]].astype(float)\n",
    "part_va_locations.head()"
   ]
  },
  {
   "cell_type": "code",
   "execution_count": 5,
   "metadata": {},
   "outputs": [
    {
     "data": {
      "text/html": [
       "<div>\n",
       "<style scoped>\n",
       "    .dataframe tbody tr th:only-of-type {\n",
       "        vertical-align: middle;\n",
       "    }\n",
       "\n",
       "    .dataframe tbody tr th {\n",
       "        vertical-align: top;\n",
       "    }\n",
       "\n",
       "    .dataframe thead th {\n",
       "        text-align: right;\n",
       "    }\n",
       "</style>\n",
       "<table border=\"1\" class=\"dataframe\">\n",
       "  <thead>\n",
       "    <tr style=\"text-align: right;\">\n",
       "      <th></th>\n",
       "      <th>icpsr_lat</th>\n",
       "      <th>icpsr_lng</th>\n",
       "    </tr>\n",
       "  </thead>\n",
       "  <tbody>\n",
       "    <tr>\n",
       "      <th>2696</th>\n",
       "      <td>37.269524</td>\n",
       "      <td>-76.708165</td>\n",
       "    </tr>\n",
       "    <tr>\n",
       "      <th>2697</th>\n",
       "      <td>37.324427</td>\n",
       "      <td>-76.778319</td>\n",
       "    </tr>\n",
       "    <tr>\n",
       "      <th>2698</th>\n",
       "      <td>38.412059</td>\n",
       "      <td>-78.276961</td>\n",
       "    </tr>\n",
       "    <tr>\n",
       "      <th>2699</th>\n",
       "      <td>36.923015</td>\n",
       "      <td>-76.244641</td>\n",
       "    </tr>\n",
       "    <tr>\n",
       "      <th>2700</th>\n",
       "      <td>37.278458</td>\n",
       "      <td>-79.958174</td>\n",
       "    </tr>\n",
       "  </tbody>\n",
       "</table>\n",
       "</div>"
      ],
      "text/plain": [
       "      icpsr_lat  icpsr_lng\n",
       "2696  37.269524 -76.708165\n",
       "2697  37.324427 -76.778319\n",
       "2698  38.412059 -78.276961\n",
       "2699  36.923015 -76.244641\n",
       "2700  37.278458 -79.958174"
      ]
     },
     "execution_count": 5,
     "metadata": {},
     "output_type": "execute_result"
    }
   ],
   "source": [
    "# Store 'Lat' and 'Lng' into  locations \n",
    "va_locations = louisa_agencies_pd[[\"icpsr_lat\", \"icpsr_lng\"]].astype(float)\n",
    "va_locations.head()"
   ]
  },
  {
   "cell_type": "code",
   "execution_count": 10,
   "metadata": {},
   "outputs": [
    {
     "data": {
      "text/plain": [
       "{'va 2005 - 2015': 4976,\n",
       " 'Cleaned va all years': 4941,\n",
       " 'All va 2011': 455,\n",
       " 'Cleaned va 2011': 452,\n",
       " 'Cleaned va Coordinates': 452,\n",
       " 'Particpating': 410,\n",
       " 'Part Locations': 410}"
      ]
     },
     "execution_count": 10,
     "metadata": {},
     "output_type": "execute_result"
    }
   ],
   "source": [
    "#get totals for reports\n",
    "all_years = va_agencies_df.count()\n",
    "all = all_years.max()\n",
    "\n",
    "clean_all_years = clean_va_agencies_df.count()\n",
    "clean = clean_all_years.max()\n",
    "\n",
    "va_agencies = va_louisa_df.count()\n",
    "va = va_agencies.max()\n",
    "\n",
    "clean_louisa = louisa_agencies_pd.count()\n",
    "louisa = clean_louisa.max()\n",
    "\n",
    "part_louisa = part_louisa_agencies_df.count()\n",
    "part = part_louisa.max()\n",
    "\n",
    "coord_part = part_va_locations.count()\n",
    "part_loc = coord_part.max()\n",
    "\n",
    "coord_va = va_locations.count()\n",
    "va_loc = coord_va.max()\n",
    "\n",
    "totals = {'va 2005 - 2015': all, 'Cleaned va all years': clean, 'All va 2011': va, 'Cleaned va 2011': louisa, \n",
    "          'Cleaned va Coordinates': va_loc, 'Particpating': part, 'Part Locations': part_loc}\n",
    "totals"
   ]
  },
  {
   "cell_type": "code",
   "execution_count": 7,
   "metadata": {},
   "outputs": [],
   "source": [
    "# Customize the size of the figure\n",
    "part_figure_layout = {\n",
    "    'width': '400px',\n",
    "    'height': '300px',\n",
    "    'border': '1px solid black',\n",
    "    'padding': '1px',\n",
    "    'margin': '0 auto 0 auto'\n",
    "}\n",
    "part_fig = gmaps.figure(layout=part_figure_layout)"
   ]
  },
  {
   "cell_type": "code",
   "execution_count": 8,
   "metadata": {},
   "outputs": [
    {
     "data": {
      "application/vnd.jupyter.widget-view+json": {
       "model_id": "70db6ade73e74cbb9acc2d9231ebbd02",
       "version_major": 2,
       "version_minor": 0
      },
      "text/plain": [
       "Figure(layout=FigureLayout(height='420px'))"
      ]
     },
     "metadata": {},
     "output_type": "display_data"
    }
   ],
   "source": [
    "fig = gmaps.figure()\n",
    "\n",
    "heat_layer = gmaps.heatmap_layer(va_locations,\n",
    "                                 dissipating=False, max_intensity=100,\n",
    "                                 point_radius = 1)\n",
    "\n",
    "# Adjust heat_layer setting to help with heatmap dissipating on zoom\n",
    "heat_layer.dissipating = False\n",
    "heat_layer.max_intensity = 100\n",
    "heat_layer.point_radius = 2\n",
    "\n",
    "fig.add_layer(heat_layer)\n",
    "\n",
    "fig"
   ]
  },
  {
   "cell_type": "code",
   "execution_count": 9,
   "metadata": {},
   "outputs": [
    {
     "data": {
      "application/vnd.jupyter.widget-view+json": {
       "model_id": "70db6ade73e74cbb9acc2d9231ebbd02",
       "version_major": 2,
       "version_minor": 0
      },
      "text/plain": [
       "Figure(layout=FigureLayout(height='420px'))"
      ]
     },
     "metadata": {},
     "output_type": "display_data"
    }
   ],
   "source": [
    "# Assign the marker layer to a variable\n",
    "markers = gmaps.marker_layer(part_va_locations)\n",
    "# Add the layer to the map\n",
    "fig.add_layer(markers)\n",
    "fig"
   ]
  },
  {
   "cell_type": "code",
   "execution_count": null,
   "metadata": {},
   "outputs": [],
   "source": []
  },
  {
   "cell_type": "code",
   "execution_count": null,
   "metadata": {},
   "outputs": [],
   "source": []
  },
  {
   "cell_type": "code",
   "execution_count": null,
   "metadata": {},
   "outputs": [],
   "source": []
  }
 ],
 "metadata": {
  "kernelspec": {
   "display_name": "Python 3",
   "language": "python",
   "name": "python3"
  },
  "language_info": {
   "codemirror_mode": {
    "name": "ipython",
    "version": 3
   },
   "file_extension": ".py",
   "mimetype": "text/x-python",
   "name": "python",
   "nbconvert_exporter": "python",
   "pygments_lexer": "ipython3",
   "version": "3.7.1"
  }
 },
 "nbformat": 4,
 "nbformat_minor": 2
}
