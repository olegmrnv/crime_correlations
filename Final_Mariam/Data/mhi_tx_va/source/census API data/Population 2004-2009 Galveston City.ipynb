{
 "cells": [
  {
   "cell_type": "code",
   "execution_count": 1,
   "metadata": {},
   "outputs": [],
   "source": [
    "# Dependencies\n",
    "import pandas as pd\n",
    "import numpy as np\n",
    "import matplotlib.pyplot as plt\n",
    "import requests\n",
    "import json\n",
    "import csv\n",
    "\n",
    "from config import census_api_key\n",
    "from pprint import pprint"
   ]
  },
  {
   "cell_type": "code",
   "execution_count": 2,
   "metadata": {},
   "outputs": [
    {
     "name": "stdout",
     "output_type": "stream",
     "text": [
      "[['POP', 'GEONAME', 'DATE', 'state', 'place'], ['53950', 'Galveston city, Texas', '6', '48', '28068'], ['53122', 'Galveston city, Texas', '7', '48', '28068'], ['52141', 'Galveston city, Texas', '8', '48', '28068'], ['51181', 'Galveston city, Texas', '9', '48', '28068'], ['50281', 'Galveston city, Texas', '10', '48', '28068'], ['48374', 'Galveston city, Texas', '11', '48', '28068']]\n"
     ]
    }
   ],
   "source": [
    "# Save config information\n",
    "url = 'https://api.census.gov/data/2000/pep/int_population?get='\n",
    "\n",
    "# Build query URL\n",
    "query_url = url + \"POP,GEONAME&for=PLACE:28068&in=state:48&DATE=6,7,8,9,10,11&key=\" + census_api_key\n",
    "response = requests.get(query_url)\n",
    "response_json = response.json()\n",
    "print(response_json)"
   ]
  },
  {
   "cell_type": "code",
   "execution_count": null,
   "metadata": {},
   "outputs": [],
   "source": []
  }
 ],
 "metadata": {
  "kernelspec": {
   "display_name": "Python 3",
   "language": "python",
   "name": "python3"
  },
  "language_info": {
   "codemirror_mode": {
    "name": "ipython",
    "version": 3
   },
   "file_extension": ".py",
   "mimetype": "text/x-python",
   "name": "python",
   "nbconvert_exporter": "python",
   "pygments_lexer": "ipython3",
   "version": "3.7.1"
  }
 },
 "nbformat": 4,
 "nbformat_minor": 2
}
