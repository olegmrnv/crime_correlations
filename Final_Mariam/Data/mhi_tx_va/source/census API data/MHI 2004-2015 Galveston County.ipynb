{
 "cells": [
  {
   "cell_type": "code",
   "execution_count": 27,
   "metadata": {},
   "outputs": [],
   "source": [
    "# Dependencies\n",
    "import pandas as pd\n",
    "import numpy as np\n",
    "import matplotlib.pyplot as plt\n",
    "import requests\n",
    "import json\n",
    "import csv\n",
    "\n",
    "from config import census_api_key\n",
    "from pprint import pprint"
   ]
  },
  {
   "cell_type": "code",
   "execution_count": 28,
   "metadata": {},
   "outputs": [
    {
     "name": "stdout",
     "output_type": "stream",
     "text": [
      "[[\"NAME\",\"SAEMHI_MOE\",\"SAEMHI_PT\",\"time\",\"state\",\"county\"],\n",
      "[\"Galveston County\",\"2749\",\"45735\",\"2004\",\"48\",\"167\"]]\n",
      "[[\"NAME\",\"SAEMHI_MOE\",\"SAEMHI_PT\",\"time\",\"state\",\"county\"],\n",
      "[\"Galveston County\",\"3082\",\"46012\",\"2005\",\"48\",\"167\"]]\n",
      "[[\"NAME\",\"SAEMHI_MOE\",\"SAEMHI_PT\",\"time\",\"state\",\"county\"],\n",
      "[\"Galveston County\",\"2372\",\"52176\",\"2006\",\"48\",\"167\"]]\n",
      "[[\"NAME\",\"SAEMHI_MOE\",\"SAEMHI_PT\",\"time\",\"state\",\"county\"],\n",
      "[\"Galveston County\",\"2603\",\"52392\",\"2007\",\"48\",\"167\"]]\n",
      "[[\"NAME\",\"SAEMHI_MOE\",\"SAEMHI_PT\",\"time\",\"state\",\"county\"],\n",
      "[\"Galveston County\",\"3271\",\"57950\",\"2008\",\"48\",\"167\"]]\n",
      "[[\"NAME\",\"SAEMHI_MOE\",\"SAEMHI_PT\",\"time\",\"state\",\"county\"],\n",
      "[\"Galveston County\",\"3412\",\"55883\",\"2009\",\"48\",\"167\"]]\n",
      "[[\"NAME\",\"SAEMHI_MOE\",\"SAEMHI_PT\",\"time\",\"state\",\"county\"],\n",
      "[\"Galveston County\",\"3278\",\"57124\",\"2010\",\"48\",\"167\"]]\n",
      "[[\"NAME\",\"SAEMHI_MOE\",\"SAEMHI_PT\",\"time\",\"state\",\"county\"],\n",
      "[\"Galveston County\",\"3134\",\"58106\",\"2011\",\"48\",\"167\"]]\n",
      "[[\"NAME\",\"SAEMHI_MOE\",\"SAEMHI_PT\",\"time\",\"state\",\"county\"],\n",
      "[\"Galveston County\",\"2428\",\"59588\",\"2012\",\"48\",\"167\"]]\n",
      "[[\"NAME\",\"SAEMHI_MOE\",\"SAEMHI_PT\",\"time\",\"state\",\"county\"],\n",
      "[\"Galveston County\",\"2381\",\"60210\",\"2013\",\"48\",\"167\"]]\n",
      "[[\"NAME\",\"SAEMHI_MOE\",\"SAEMHI_PT\",\"time\",\"state\",\"county\"],\n",
      "[\"Galveston County\",\"3815\",\"58333\",\"2014\",\"48\",\"167\"]]\n",
      "[[\"NAME\",\"SAEMHI_MOE\",\"SAEMHI_PT\",\"time\",\"state\",\"county\"],\n",
      "[\"Galveston County\",\"3856\",\"66173\",\"2015\",\"48\",\"167\"]]\n"
     ]
    }
   ],
   "source": [
    "# Save config information\n",
    "url = 'https://api.census.gov/data/timeseries/poverty/saipe?get='\n",
    "years = ['2004', '2005', '2006', '2007', '2008', '2009', '2010', '2011', '2012', '2013', '2014', '2015']\n",
    "\n",
    "# Build query URL\n",
    "for year in years:\n",
    "    query_url = url + \"NAME,SAEMHI_MOE,SAEMHI_PT&for=county:167&in=state:48&key=\" + census_api_key + \"&time=\" + year\n",
    "    response = requests.get(query_url)\n",
    "    response_json = response\n",
    "    print(response_json.text)"
   ]
  },
  {
   "cell_type": "code",
   "execution_count": null,
   "metadata": {},
   "outputs": [],
   "source": []
  }
 ],
 "metadata": {
  "kernelspec": {
   "display_name": "Python 3",
   "language": "python",
   "name": "python3"
  },
  "language_info": {
   "codemirror_mode": {
    "name": "ipython",
    "version": 3
   },
   "file_extension": ".py",
   "mimetype": "text/x-python",
   "name": "python",
   "nbconvert_exporter": "python",
   "pygments_lexer": "ipython3",
   "version": "3.7.1"
  }
 },
 "nbformat": 4,
 "nbformat_minor": 2
}
