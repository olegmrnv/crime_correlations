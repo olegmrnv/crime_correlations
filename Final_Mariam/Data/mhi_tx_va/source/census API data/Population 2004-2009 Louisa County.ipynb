{
 "cells": [
  {
   "cell_type": "code",
   "execution_count": 1,
   "metadata": {},
   "outputs": [],
   "source": [
    "# Dependencies\n",
    "import pandas as pd\n",
    "import numpy as np\n",
    "import matplotlib.pyplot as plt\n",
    "import requests\n",
    "import json\n",
    "import csv\n",
    "\n",
    "from config import census_api_key\n",
    "from pprint import pprint"
   ]
  },
  {
   "cell_type": "code",
   "execution_count": 2,
   "metadata": {},
   "outputs": [
    {
     "name": "stdout",
     "output_type": "stream",
     "text": [
      "[['POP', 'GEONAME', 'DATE', 'state', 'county'], ['28582', 'Louisa County, Virginia', '6', '51', '109'], ['29835', 'Louisa County, Virginia', '7', '51', '109'], ['30946', 'Louisa County, Virginia', '8', '51', '109'], ['31716', 'Louisa County, Virginia', '9', '51', '109'], ['32475', 'Louisa County, Virginia', '10', '51', '109'], ['32840', 'Louisa County, Virginia', '11', '51', '109']]\n"
     ]
    }
   ],
   "source": [
    "# Save config information\n",
    "url = 'https://api.census.gov/data/2000/pep/int_population?get='\n",
    "\n",
    "# Build query URL\n",
    "query_url = url + \"POP,GEONAME&for=COUNTY:109&in=state:51&DATE=6,7,8,9,10,11&key=\" + census_api_key\n",
    "response = requests.get(query_url)\n",
    "response_json = response.json()\n",
    "print(response_json)"
   ]
  },
  {
   "cell_type": "code",
   "execution_count": null,
   "metadata": {},
   "outputs": [],
   "source": []
  }
 ],
 "metadata": {
  "kernelspec": {
   "display_name": "Python 3",
   "language": "python",
   "name": "python3"
  },
  "language_info": {
   "codemirror_mode": {
    "name": "ipython",
    "version": 3
   },
   "file_extension": ".py",
   "mimetype": "text/x-python",
   "name": "python",
   "nbconvert_exporter": "python",
   "pygments_lexer": "ipython3",
   "version": "3.7.1"
  }
 },
 "nbformat": 4,
 "nbformat_minor": 2
}
