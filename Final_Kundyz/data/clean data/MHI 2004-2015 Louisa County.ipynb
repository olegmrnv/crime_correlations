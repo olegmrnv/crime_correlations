{
 "cells": [
  {
   "cell_type": "code",
   "execution_count": 2,
   "metadata": {},
   "outputs": [],
   "source": [
    "# Dependencies\n",
    "import pandas as pd\n",
    "import numpy as np\n",
    "import matplotlib.pyplot as plt\n",
    "import requests\n",
    "import json\n",
    "import csv\n",
    "\n",
    "from config import census_api_key\n",
    "from pprint import pprint"
   ]
  },
  {
   "cell_type": "code",
   "execution_count": 3,
   "metadata": {},
   "outputs": [
    {
     "name": "stdout",
     "output_type": "stream",
     "text": [
      "[[\"NAME\",\"SAEMHI_MOE\",\"SAEMHI_PT\",\"time\",\"state\",\"county\"],\n",
      "[\"Louisa County\",\"2821\",\"44726\",\"2004\",\"51\",\"109\"]]\n",
      "[[\"NAME\",\"SAEMHI_MOE\",\"SAEMHI_PT\",\"time\",\"state\",\"county\"],\n",
      "[\"Louisa County\",\"4023\",\"44788\",\"2005\",\"51\",\"109\"]]\n",
      "[[\"NAME\",\"SAEMHI_MOE\",\"SAEMHI_PT\",\"time\",\"state\",\"county\"],\n",
      "[\"Louisa County\",\"4079\",\"48086\",\"2006\",\"51\",\"109\"]]\n",
      "[[\"NAME\",\"SAEMHI_MOE\",\"SAEMHI_PT\",\"time\",\"state\",\"county\"],\n",
      "[\"Louisa County\",\"4290\",\"52514\",\"2007\",\"51\",\"109\"]]\n",
      "[[\"NAME\",\"SAEMHI_MOE\",\"SAEMHI_PT\",\"time\",\"state\",\"county\"],\n",
      "[\"Louisa County\",\"4142\",\"54777\",\"2008\",\"51\",\"109\"]]\n",
      "[[\"NAME\",\"SAEMHI_MOE\",\"SAEMHI_PT\",\"time\",\"state\",\"county\"],\n",
      "[\"Louisa County\",\"5052\",\"52396\",\"2009\",\"51\",\"109\"]]\n",
      "[[\"NAME\",\"SAEMHI_MOE\",\"SAEMHI_PT\",\"time\",\"state\",\"county\"],\n",
      "[\"Louisa County\",\"3798\",\"50101\",\"2010\",\"51\",\"109\"]]\n",
      "[[\"NAME\",\"SAEMHI_MOE\",\"SAEMHI_PT\",\"time\",\"state\",\"county\"],\n",
      "[\"Louisa County\",\"4531\",\"53267\",\"2011\",\"51\",\"109\"]]\n",
      "[[\"NAME\",\"SAEMHI_MOE\",\"SAEMHI_PT\",\"time\",\"state\",\"county\"],\n",
      "[\"Louisa County\",\"4360\",\"54836\",\"2012\",\"51\",\"109\"]]\n",
      "[[\"NAME\",\"SAEMHI_MOE\",\"SAEMHI_PT\",\"time\",\"state\",\"county\"],\n",
      "[\"Louisa County\",\"4585\",\"53170\",\"2013\",\"51\",\"109\"]]\n",
      "[[\"NAME\",\"SAEMHI_MOE\",\"SAEMHI_PT\",\"time\",\"state\",\"county\"],\n",
      "[\"Louisa County\",\"4576\",\"60121\",\"2014\",\"51\",\"109\"]]\n",
      "[[\"NAME\",\"SAEMHI_MOE\",\"SAEMHI_PT\",\"time\",\"state\",\"county\"],\n",
      "[\"Louisa County\",\"4734\",\"57015\",\"2015\",\"51\",\"109\"]]\n"
     ]
    }
   ],
   "source": [
    "# Save config information\n",
    "url = 'https://api.census.gov/data/timeseries/poverty/saipe?get='\n",
    "years = ['2004', '2005', '2006', '2007', '2008', '2009', '2010', '2011', '2012', '2013', '2014', '2015']\n",
    "\n",
    "# Build query URL\n",
    "for year in years:\n",
    "    query_url = url + \"NAME,SAEMHI_MOE,SAEMHI_PT&for=county:109&in=state:51&key=\" + census_api_key + \"&time=\" + year\n",
    "    response = requests.get(query_url)\n",
    "    response_json = response\n",
    "    print(response_json.text)"
   ]
  },
  {
   "cell_type": "code",
   "execution_count": null,
   "metadata": {},
   "outputs": [],
   "source": []
  }
 ],
 "metadata": {
  "kernelspec": {
   "display_name": "Python 3",
   "language": "python",
   "name": "python3"
  },
  "language_info": {
   "codemirror_mode": {
    "name": "ipython",
    "version": 3
   },
   "file_extension": ".py",
   "mimetype": "text/x-python",
   "name": "python",
   "nbconvert_exporter": "python",
   "pygments_lexer": "ipython3",
   "version": "3.7.1"
  }
 },
 "nbformat": 4,
 "nbformat_minor": 2
}
